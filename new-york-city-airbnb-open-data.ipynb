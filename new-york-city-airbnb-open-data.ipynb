{
 "cells": [
  {
   "cell_type": "code",
   "execution_count": 1,
   "id": "d82ce7b8",
   "metadata": {
    "_cell_guid": "b1076dfc-b9ad-4769-8c92-a6c4dae69d19",
    "_uuid": "8f2839f25d086af736a60e9eeb907d3b93b6e0e5",
    "execution": {
     "iopub.execute_input": "2024-07-25T06:18:16.626666Z",
     "iopub.status.busy": "2024-07-25T06:18:16.626147Z",
     "iopub.status.idle": "2024-07-25T06:18:17.738578Z",
     "shell.execute_reply": "2024-07-25T06:18:17.737080Z"
    },
    "papermill": {
     "duration": 1.128078,
     "end_time": "2024-07-25T06:18:17.741445",
     "exception": false,
     "start_time": "2024-07-25T06:18:16.613367",
     "status": "completed"
    },
    "tags": []
   },
   "outputs": [
    {
     "name": "stdout",
     "output_type": "stream",
     "text": [
      "/kaggle/input/new-york-city-airbnb-open-data/AB_NYC_2019.csv\n",
      "/kaggle/input/new-york-city-airbnb-open-data/New_York_City_.png\n"
     ]
    }
   ],
   "source": [
    "# This Python 3 environment comes with many helpful analytics libraries installed\n",
    "# It is defined by the kaggle/python Docker image: https://github.com/kaggle/docker-python\n",
    "# For example, here's several helpful packages to load\n",
    "\n",
    "import numpy as np # linear algebra\n",
    "import pandas as pd # data processing, CSV file I/O (e.g. pd.read_csv)\n",
    "\n",
    "# Input data files are available in the read-only \"../input/\" directory\n",
    "# For example, running this (by clicking run or pressing Shift+Enter) will list all files under the input directory\n",
    "\n",
    "import os\n",
    "for dirname, _, filenames in os.walk('/kaggle/input'):\n",
    "    for filename in filenames:\n",
    "        print(os.path.join(dirname, filename))\n",
    "\n",
    "# You can write up to 20GB to the current directory (/kaggle/working/) that gets preserved as output when you create a version using \"Save & Run All\" \n",
    "# You can also write temporary files to /kaggle/temp/, but they won't be saved outside of the current session"
   ]
  },
  {
   "cell_type": "code",
   "execution_count": 2,
   "id": "46247223",
   "metadata": {
    "execution": {
     "iopub.execute_input": "2024-07-25T06:18:17.765244Z",
     "iopub.status.busy": "2024-07-25T06:18:17.764662Z",
     "iopub.status.idle": "2024-07-25T06:18:19.389645Z",
     "shell.execute_reply": "2024-07-25T06:18:19.388431Z"
    },
    "papermill": {
     "duration": 1.640609,
     "end_time": "2024-07-25T06:18:19.392659",
     "exception": false,
     "start_time": "2024-07-25T06:18:17.752050",
     "status": "completed"
    },
    "tags": []
   },
   "outputs": [],
   "source": [
    "import numpy as np\n",
    "import pandas as pd\n",
    "import matplotlib.pyplot as plt\n",
    "import seaborn as sns\n",
    "plt.style.use('ggplot')\n",
    "import datetime as dt\n",
    "# pd.set_option(max_column)"
   ]
  },
  {
   "cell_type": "code",
   "execution_count": 3,
   "id": "bec460d7",
   "metadata": {
    "execution": {
     "iopub.execute_input": "2024-07-25T06:18:19.414068Z",
     "iopub.status.busy": "2024-07-25T06:18:19.413660Z",
     "iopub.status.idle": "2024-07-25T06:18:19.770216Z",
     "shell.execute_reply": "2024-07-25T06:18:19.768976Z"
    },
    "papermill": {
     "duration": 0.371008,
     "end_time": "2024-07-25T06:18:19.773498",
     "exception": false,
     "start_time": "2024-07-25T06:18:19.402490",
     "status": "completed"
    },
    "tags": []
   },
   "outputs": [],
   "source": [
    "df = pd.read_csv(\"/kaggle/input/new-york-city-airbnb-open-data/AB_NYC_2019.csv\")"
   ]
  },
  {
   "cell_type": "code",
   "execution_count": 4,
   "id": "b39de6ba",
   "metadata": {
    "execution": {
     "iopub.execute_input": "2024-07-25T06:18:19.795500Z",
     "iopub.status.busy": "2024-07-25T06:18:19.794555Z",
     "iopub.status.idle": "2024-07-25T06:18:19.830474Z",
     "shell.execute_reply": "2024-07-25T06:18:19.829113Z"
    },
    "papermill": {
     "duration": 0.049992,
     "end_time": "2024-07-25T06:18:19.833347",
     "exception": false,
     "start_time": "2024-07-25T06:18:19.783355",
     "status": "completed"
    },
    "tags": []
   },
   "outputs": [
    {
     "data": {
      "text/html": [
       "<div>\n",
       "<style scoped>\n",
       "    .dataframe tbody tr th:only-of-type {\n",
       "        vertical-align: middle;\n",
       "    }\n",
       "\n",
       "    .dataframe tbody tr th {\n",
       "        vertical-align: top;\n",
       "    }\n",
       "\n",
       "    .dataframe thead th {\n",
       "        text-align: right;\n",
       "    }\n",
       "</style>\n",
       "<table border=\"1\" class=\"dataframe\">\n",
       "  <thead>\n",
       "    <tr style=\"text-align: right;\">\n",
       "      <th></th>\n",
       "      <th>id</th>\n",
       "      <th>name</th>\n",
       "      <th>host_id</th>\n",
       "      <th>host_name</th>\n",
       "      <th>neighbourhood_group</th>\n",
       "      <th>neighbourhood</th>\n",
       "      <th>latitude</th>\n",
       "      <th>longitude</th>\n",
       "      <th>room_type</th>\n",
       "      <th>price</th>\n",
       "      <th>minimum_nights</th>\n",
       "      <th>number_of_reviews</th>\n",
       "      <th>last_review</th>\n",
       "      <th>reviews_per_month</th>\n",
       "      <th>calculated_host_listings_count</th>\n",
       "      <th>availability_365</th>\n",
       "    </tr>\n",
       "  </thead>\n",
       "  <tbody>\n",
       "    <tr>\n",
       "      <th>0</th>\n",
       "      <td>2539</td>\n",
       "      <td>Clean &amp; quiet apt home by the park</td>\n",
       "      <td>2787</td>\n",
       "      <td>John</td>\n",
       "      <td>Brooklyn</td>\n",
       "      <td>Kensington</td>\n",
       "      <td>40.64749</td>\n",
       "      <td>-73.97237</td>\n",
       "      <td>Private room</td>\n",
       "      <td>149</td>\n",
       "      <td>1</td>\n",
       "      <td>9</td>\n",
       "      <td>2018-10-19</td>\n",
       "      <td>0.21</td>\n",
       "      <td>6</td>\n",
       "      <td>365</td>\n",
       "    </tr>\n",
       "    <tr>\n",
       "      <th>1</th>\n",
       "      <td>2595</td>\n",
       "      <td>Skylit Midtown Castle</td>\n",
       "      <td>2845</td>\n",
       "      <td>Jennifer</td>\n",
       "      <td>Manhattan</td>\n",
       "      <td>Midtown</td>\n",
       "      <td>40.75362</td>\n",
       "      <td>-73.98377</td>\n",
       "      <td>Entire home/apt</td>\n",
       "      <td>225</td>\n",
       "      <td>1</td>\n",
       "      <td>45</td>\n",
       "      <td>2019-05-21</td>\n",
       "      <td>0.38</td>\n",
       "      <td>2</td>\n",
       "      <td>355</td>\n",
       "    </tr>\n",
       "    <tr>\n",
       "      <th>2</th>\n",
       "      <td>3647</td>\n",
       "      <td>THE VILLAGE OF HARLEM....NEW YORK !</td>\n",
       "      <td>4632</td>\n",
       "      <td>Elisabeth</td>\n",
       "      <td>Manhattan</td>\n",
       "      <td>Harlem</td>\n",
       "      <td>40.80902</td>\n",
       "      <td>-73.94190</td>\n",
       "      <td>Private room</td>\n",
       "      <td>150</td>\n",
       "      <td>3</td>\n",
       "      <td>0</td>\n",
       "      <td>NaN</td>\n",
       "      <td>NaN</td>\n",
       "      <td>1</td>\n",
       "      <td>365</td>\n",
       "    </tr>\n",
       "    <tr>\n",
       "      <th>3</th>\n",
       "      <td>3831</td>\n",
       "      <td>Cozy Entire Floor of Brownstone</td>\n",
       "      <td>4869</td>\n",
       "      <td>LisaRoxanne</td>\n",
       "      <td>Brooklyn</td>\n",
       "      <td>Clinton Hill</td>\n",
       "      <td>40.68514</td>\n",
       "      <td>-73.95976</td>\n",
       "      <td>Entire home/apt</td>\n",
       "      <td>89</td>\n",
       "      <td>1</td>\n",
       "      <td>270</td>\n",
       "      <td>2019-07-05</td>\n",
       "      <td>4.64</td>\n",
       "      <td>1</td>\n",
       "      <td>194</td>\n",
       "    </tr>\n",
       "    <tr>\n",
       "      <th>4</th>\n",
       "      <td>5022</td>\n",
       "      <td>Entire Apt: Spacious Studio/Loft by central park</td>\n",
       "      <td>7192</td>\n",
       "      <td>Laura</td>\n",
       "      <td>Manhattan</td>\n",
       "      <td>East Harlem</td>\n",
       "      <td>40.79851</td>\n",
       "      <td>-73.94399</td>\n",
       "      <td>Entire home/apt</td>\n",
       "      <td>80</td>\n",
       "      <td>10</td>\n",
       "      <td>9</td>\n",
       "      <td>2018-11-19</td>\n",
       "      <td>0.10</td>\n",
       "      <td>1</td>\n",
       "      <td>0</td>\n",
       "    </tr>\n",
       "  </tbody>\n",
       "</table>\n",
       "</div>"
      ],
      "text/plain": [
       "     id                                              name  host_id  \\\n",
       "0  2539                Clean & quiet apt home by the park     2787   \n",
       "1  2595                             Skylit Midtown Castle     2845   \n",
       "2  3647               THE VILLAGE OF HARLEM....NEW YORK !     4632   \n",
       "3  3831                   Cozy Entire Floor of Brownstone     4869   \n",
       "4  5022  Entire Apt: Spacious Studio/Loft by central park     7192   \n",
       "\n",
       "     host_name neighbourhood_group neighbourhood  latitude  longitude  \\\n",
       "0         John            Brooklyn    Kensington  40.64749  -73.97237   \n",
       "1     Jennifer           Manhattan       Midtown  40.75362  -73.98377   \n",
       "2    Elisabeth           Manhattan        Harlem  40.80902  -73.94190   \n",
       "3  LisaRoxanne            Brooklyn  Clinton Hill  40.68514  -73.95976   \n",
       "4        Laura           Manhattan   East Harlem  40.79851  -73.94399   \n",
       "\n",
       "         room_type  price  minimum_nights  number_of_reviews last_review  \\\n",
       "0     Private room    149               1                  9  2018-10-19   \n",
       "1  Entire home/apt    225               1                 45  2019-05-21   \n",
       "2     Private room    150               3                  0         NaN   \n",
       "3  Entire home/apt     89               1                270  2019-07-05   \n",
       "4  Entire home/apt     80              10                  9  2018-11-19   \n",
       "\n",
       "   reviews_per_month  calculated_host_listings_count  availability_365  \n",
       "0               0.21                               6               365  \n",
       "1               0.38                               2               355  \n",
       "2                NaN                               1               365  \n",
       "3               4.64                               1               194  \n",
       "4               0.10                               1                 0  "
      ]
     },
     "execution_count": 4,
     "metadata": {},
     "output_type": "execute_result"
    }
   ],
   "source": [
    "df.head(5)"
   ]
  },
  {
   "cell_type": "code",
   "execution_count": 5,
   "id": "7d63b719",
   "metadata": {
    "execution": {
     "iopub.execute_input": "2024-07-25T06:18:19.856027Z",
     "iopub.status.busy": "2024-07-25T06:18:19.854953Z",
     "iopub.status.idle": "2024-07-25T06:18:19.864420Z",
     "shell.execute_reply": "2024-07-25T06:18:19.863282Z"
    },
    "papermill": {
     "duration": 0.023418,
     "end_time": "2024-07-25T06:18:19.867038",
     "exception": false,
     "start_time": "2024-07-25T06:18:19.843620",
     "status": "completed"
    },
    "tags": []
   },
   "outputs": [
    {
     "data": {
      "text/plain": [
       "id                                  int64\n",
       "name                               object\n",
       "host_id                             int64\n",
       "host_name                          object\n",
       "neighbourhood_group                object\n",
       "neighbourhood                      object\n",
       "latitude                          float64\n",
       "longitude                         float64\n",
       "room_type                          object\n",
       "price                               int64\n",
       "minimum_nights                      int64\n",
       "number_of_reviews                   int64\n",
       "last_review                        object\n",
       "reviews_per_month                 float64\n",
       "calculated_host_listings_count      int64\n",
       "availability_365                    int64\n",
       "dtype: object"
      ]
     },
     "execution_count": 5,
     "metadata": {},
     "output_type": "execute_result"
    }
   ],
   "source": [
    "df.dtypes"
   ]
  },
  {
   "cell_type": "code",
   "execution_count": 6,
   "id": "dc7af25d",
   "metadata": {
    "execution": {
     "iopub.execute_input": "2024-07-25T06:18:19.890668Z",
     "iopub.status.busy": "2024-07-25T06:18:19.889594Z",
     "iopub.status.idle": "2024-07-25T06:18:20.080653Z",
     "shell.execute_reply": "2024-07-25T06:18:20.079465Z"
    },
    "papermill": {
     "duration": 0.206244,
     "end_time": "2024-07-25T06:18:20.083738",
     "exception": false,
     "start_time": "2024-07-25T06:18:19.877494",
     "status": "completed"
    },
    "tags": []
   },
   "outputs": [
    {
     "data": {
      "text/plain": [
       "id                                        object\n",
       "name                                      object\n",
       "host_id                                   object\n",
       "host_name                                 object\n",
       "neighbourhood_group                       object\n",
       "neighbourhood                             object\n",
       "latitude                                  object\n",
       "longitude                                 object\n",
       "room_type                                 object\n",
       "price                                      int64\n",
       "minimum_nights                             int64\n",
       "number_of_reviews                          int64\n",
       "last_review                       datetime64[ns]\n",
       "reviews_per_month                        float64\n",
       "calculated_host_listings_count             int64\n",
       "availability_365                           int64\n",
       "dtype: object"
      ]
     },
     "execution_count": 6,
     "metadata": {},
     "output_type": "execute_result"
    }
   ],
   "source": [
    "df['id'] = df['id'].astype(str)\n",
    "df['host_id'] = df['host_id'].astype(str)\n",
    "df['latitude'] = df['latitude'].astype(str)\n",
    "df['longitude'] = df['longitude'].astype(str)\n",
    "df['last_review'] = pd.to_datetime(df['last_review'], format='%Y-%m-%d')\n",
    "df.dtypes"
   ]
  },
  {
   "cell_type": "code",
   "execution_count": 7,
   "id": "d10af1d9",
   "metadata": {
    "execution": {
     "iopub.execute_input": "2024-07-25T06:18:20.106509Z",
     "iopub.status.busy": "2024-07-25T06:18:20.106075Z",
     "iopub.status.idle": "2024-07-25T06:18:20.113776Z",
     "shell.execute_reply": "2024-07-25T06:18:20.112594Z"
    },
    "papermill": {
     "duration": 0.022189,
     "end_time": "2024-07-25T06:18:20.116517",
     "exception": false,
     "start_time": "2024-07-25T06:18:20.094328",
     "status": "completed"
    },
    "tags": []
   },
   "outputs": [
    {
     "data": {
      "text/plain": [
       "(48895, 16)"
      ]
     },
     "execution_count": 7,
     "metadata": {},
     "output_type": "execute_result"
    }
   ],
   "source": [
    "df.shape"
   ]
  },
  {
   "cell_type": "markdown",
   "id": "76ee5194",
   "metadata": {
    "papermill": {
     "duration": 0.010098,
     "end_time": "2024-07-25T06:18:20.137206",
     "exception": false,
     "start_time": "2024-07-25T06:18:20.127108",
     "status": "completed"
    },
    "tags": []
   },
   "source": [
    "# Missing Data Handling"
   ]
  },
  {
   "cell_type": "code",
   "execution_count": 8,
   "id": "144d4868",
   "metadata": {
    "execution": {
     "iopub.execute_input": "2024-07-25T06:18:20.160867Z",
     "iopub.status.busy": "2024-07-25T06:18:20.160430Z",
     "iopub.status.idle": "2024-07-25T06:18:20.221600Z",
     "shell.execute_reply": "2024-07-25T06:18:20.220317Z"
    },
    "papermill": {
     "duration": 0.07578,
     "end_time": "2024-07-25T06:18:20.224312",
     "exception": false,
     "start_time": "2024-07-25T06:18:20.148532",
     "status": "completed"
    },
    "tags": []
   },
   "outputs": [
    {
     "data": {
      "text/plain": [
       "id                                    0\n",
       "name                                 16\n",
       "host_id                               0\n",
       "host_name                            21\n",
       "neighbourhood_group                   0\n",
       "neighbourhood                         0\n",
       "latitude                              0\n",
       "longitude                             0\n",
       "room_type                             0\n",
       "price                                 0\n",
       "minimum_nights                        0\n",
       "number_of_reviews                     0\n",
       "last_review                       10052\n",
       "reviews_per_month                 10052\n",
       "calculated_host_listings_count        0\n",
       "availability_365                      0\n",
       "dtype: int64"
      ]
     },
     "execution_count": 8,
     "metadata": {},
     "output_type": "execute_result"
    }
   ],
   "source": [
    "df.isna().sum()"
   ]
  },
  {
   "cell_type": "code",
   "execution_count": 9,
   "id": "7c45791b",
   "metadata": {
    "execution": {
     "iopub.execute_input": "2024-07-25T06:18:20.247568Z",
     "iopub.status.busy": "2024-07-25T06:18:20.247181Z",
     "iopub.status.idle": "2024-07-25T06:18:20.351476Z",
     "shell.execute_reply": "2024-07-25T06:18:20.350041Z"
    },
    "papermill": {
     "duration": 0.119635,
     "end_time": "2024-07-25T06:18:20.354621",
     "exception": false,
     "start_time": "2024-07-25T06:18:20.234986",
     "status": "completed"
    },
    "tags": []
   },
   "outputs": [
    {
     "data": {
      "text/plain": [
       "0"
      ]
     },
     "execution_count": 9,
     "metadata": {},
     "output_type": "execute_result"
    }
   ],
   "source": [
    "df.duplicated().sum()"
   ]
  },
  {
   "cell_type": "code",
   "execution_count": 10,
   "id": "d197f0b9",
   "metadata": {
    "execution": {
     "iopub.execute_input": "2024-07-25T06:18:20.378297Z",
     "iopub.status.busy": "2024-07-25T06:18:20.377895Z",
     "iopub.status.idle": "2024-07-25T06:18:20.492128Z",
     "shell.execute_reply": "2024-07-25T06:18:20.490776Z"
    },
    "papermill": {
     "duration": 0.129308,
     "end_time": "2024-07-25T06:18:20.494938",
     "exception": false,
     "start_time": "2024-07-25T06:18:20.365630",
     "status": "completed"
    },
    "tags": []
   },
   "outputs": [
    {
     "data": {
      "text/plain": [
       "id                                0\n",
       "name                              0\n",
       "host_id                           0\n",
       "host_name                         0\n",
       "neighbourhood_group               0\n",
       "neighbourhood                     0\n",
       "latitude                          0\n",
       "longitude                         0\n",
       "room_type                         0\n",
       "price                             0\n",
       "minimum_nights                    0\n",
       "number_of_reviews                 0\n",
       "last_review                       0\n",
       "reviews_per_month                 0\n",
       "calculated_host_listings_count    0\n",
       "availability_365                  0\n",
       "dtype: int64"
      ]
     },
     "execution_count": 10,
     "metadata": {},
     "output_type": "execute_result"
    }
   ],
   "source": [
    "# Drop rows with any null values\n",
    "df.dropna(inplace=True)\n",
    "df.isna().sum()\n"
   ]
  },
  {
   "cell_type": "code",
   "execution_count": 11,
   "id": "748ce366",
   "metadata": {
    "execution": {
     "iopub.execute_input": "2024-07-25T06:18:20.519877Z",
     "iopub.status.busy": "2024-07-25T06:18:20.518718Z",
     "iopub.status.idle": "2024-07-25T06:18:20.565928Z",
     "shell.execute_reply": "2024-07-25T06:18:20.564550Z"
    },
    "papermill": {
     "duration": 0.062361,
     "end_time": "2024-07-25T06:18:20.568526",
     "exception": false,
     "start_time": "2024-07-25T06:18:20.506165",
     "status": "completed"
    },
    "tags": []
   },
   "outputs": [
    {
     "data": {
      "text/html": [
       "<div>\n",
       "<style scoped>\n",
       "    .dataframe tbody tr th:only-of-type {\n",
       "        vertical-align: middle;\n",
       "    }\n",
       "\n",
       "    .dataframe tbody tr th {\n",
       "        vertical-align: top;\n",
       "    }\n",
       "\n",
       "    .dataframe thead th {\n",
       "        text-align: right;\n",
       "    }\n",
       "</style>\n",
       "<table border=\"1\" class=\"dataframe\">\n",
       "  <thead>\n",
       "    <tr style=\"text-align: right;\">\n",
       "      <th></th>\n",
       "      <th>price</th>\n",
       "      <th>minimum_nights</th>\n",
       "      <th>number_of_reviews</th>\n",
       "      <th>last_review</th>\n",
       "      <th>reviews_per_month</th>\n",
       "      <th>calculated_host_listings_count</th>\n",
       "      <th>availability_365</th>\n",
       "    </tr>\n",
       "  </thead>\n",
       "  <tbody>\n",
       "    <tr>\n",
       "      <th>count</th>\n",
       "      <td>38821.000000</td>\n",
       "      <td>38821.000000</td>\n",
       "      <td>38821.000000</td>\n",
       "      <td>38821</td>\n",
       "      <td>38821.000000</td>\n",
       "      <td>38821.000000</td>\n",
       "      <td>38821.000000</td>\n",
       "    </tr>\n",
       "    <tr>\n",
       "      <th>mean</th>\n",
       "      <td>142.332526</td>\n",
       "      <td>5.869220</td>\n",
       "      <td>29.290255</td>\n",
       "      <td>2018-10-04 07:23:47.072975872</td>\n",
       "      <td>1.373229</td>\n",
       "      <td>5.166611</td>\n",
       "      <td>114.886299</td>\n",
       "    </tr>\n",
       "    <tr>\n",
       "      <th>min</th>\n",
       "      <td>0.000000</td>\n",
       "      <td>1.000000</td>\n",
       "      <td>1.000000</td>\n",
       "      <td>2011-03-28 00:00:00</td>\n",
       "      <td>0.010000</td>\n",
       "      <td>1.000000</td>\n",
       "      <td>0.000000</td>\n",
       "    </tr>\n",
       "    <tr>\n",
       "      <th>25%</th>\n",
       "      <td>69.000000</td>\n",
       "      <td>1.000000</td>\n",
       "      <td>3.000000</td>\n",
       "      <td>2018-07-09 00:00:00</td>\n",
       "      <td>0.190000</td>\n",
       "      <td>1.000000</td>\n",
       "      <td>0.000000</td>\n",
       "    </tr>\n",
       "    <tr>\n",
       "      <th>50%</th>\n",
       "      <td>101.000000</td>\n",
       "      <td>2.000000</td>\n",
       "      <td>9.000000</td>\n",
       "      <td>2019-05-19 00:00:00</td>\n",
       "      <td>0.720000</td>\n",
       "      <td>1.000000</td>\n",
       "      <td>55.000000</td>\n",
       "    </tr>\n",
       "    <tr>\n",
       "      <th>75%</th>\n",
       "      <td>170.000000</td>\n",
       "      <td>4.000000</td>\n",
       "      <td>33.000000</td>\n",
       "      <td>2019-06-23 00:00:00</td>\n",
       "      <td>2.020000</td>\n",
       "      <td>2.000000</td>\n",
       "      <td>229.000000</td>\n",
       "    </tr>\n",
       "    <tr>\n",
       "      <th>max</th>\n",
       "      <td>10000.000000</td>\n",
       "      <td>1250.000000</td>\n",
       "      <td>629.000000</td>\n",
       "      <td>2019-07-08 00:00:00</td>\n",
       "      <td>58.500000</td>\n",
       "      <td>327.000000</td>\n",
       "      <td>365.000000</td>\n",
       "    </tr>\n",
       "    <tr>\n",
       "      <th>std</th>\n",
       "      <td>196.994756</td>\n",
       "      <td>17.389026</td>\n",
       "      <td>48.182900</td>\n",
       "      <td>NaN</td>\n",
       "      <td>1.680328</td>\n",
       "      <td>26.302954</td>\n",
       "      <td>129.529950</td>\n",
       "    </tr>\n",
       "  </tbody>\n",
       "</table>\n",
       "</div>"
      ],
      "text/plain": [
       "              price  minimum_nights  number_of_reviews  \\\n",
       "count  38821.000000    38821.000000       38821.000000   \n",
       "mean     142.332526        5.869220          29.290255   \n",
       "min        0.000000        1.000000           1.000000   \n",
       "25%       69.000000        1.000000           3.000000   \n",
       "50%      101.000000        2.000000           9.000000   \n",
       "75%      170.000000        4.000000          33.000000   \n",
       "max    10000.000000     1250.000000         629.000000   \n",
       "std      196.994756       17.389026          48.182900   \n",
       "\n",
       "                         last_review  reviews_per_month  \\\n",
       "count                          38821       38821.000000   \n",
       "mean   2018-10-04 07:23:47.072975872           1.373229   \n",
       "min              2011-03-28 00:00:00           0.010000   \n",
       "25%              2018-07-09 00:00:00           0.190000   \n",
       "50%              2019-05-19 00:00:00           0.720000   \n",
       "75%              2019-06-23 00:00:00           2.020000   \n",
       "max              2019-07-08 00:00:00          58.500000   \n",
       "std                              NaN           1.680328   \n",
       "\n",
       "       calculated_host_listings_count  availability_365  \n",
       "count                    38821.000000      38821.000000  \n",
       "mean                         5.166611        114.886299  \n",
       "min                          1.000000          0.000000  \n",
       "25%                          1.000000          0.000000  \n",
       "50%                          1.000000         55.000000  \n",
       "75%                          2.000000        229.000000  \n",
       "max                        327.000000        365.000000  \n",
       "std                         26.302954        129.529950  "
      ]
     },
     "execution_count": 11,
     "metadata": {},
     "output_type": "execute_result"
    }
   ],
   "source": [
    "df.describe()"
   ]
  },
  {
   "cell_type": "markdown",
   "id": "c3b74f25",
   "metadata": {
    "papermill": {
     "duration": 0.011592,
     "end_time": "2024-07-25T06:18:20.591545",
     "exception": false,
     "start_time": "2024-07-25T06:18:20.579953",
     "status": "completed"
    },
    "tags": []
   },
   "source": [
    "# Outlier Detection"
   ]
  },
  {
   "cell_type": "code",
   "execution_count": 12,
   "id": "8dfa017a",
   "metadata": {
    "execution": {
     "iopub.execute_input": "2024-07-25T06:18:20.616877Z",
     "iopub.status.busy": "2024-07-25T06:18:20.616446Z",
     "iopub.status.idle": "2024-07-25T06:18:21.005182Z",
     "shell.execute_reply": "2024-07-25T06:18:21.003906Z"
    },
    "papermill": {
     "duration": 0.404879,
     "end_time": "2024-07-25T06:18:21.008010",
     "exception": false,
     "start_time": "2024-07-25T06:18:20.603131",
     "status": "completed"
    },
    "tags": []
   },
   "outputs": [
    {
     "data": {
      "image/png": "[encoded data removed]",
      "text/plain": [
       "<Figure size 600x400 with 1 Axes>"
      ]
     },
     "metadata": {},
     "output_type": "display_data"
    }
   ],
   "source": [
    "plt.figure(figsize=(6, 4))  \n",
    "sns.boxplot(data=df, y='number_of_reviews')\n",
    "plt.title('Box Plot for number_of_reviews')\n",
    "plt.ylabel('number_of_reviews')\n",
    "plt.show()"
   ]
  },
  {
   "cell_type": "code",
   "execution_count": 13,
   "id": "697f182a",
   "metadata": {
    "execution": {
     "iopub.execute_input": "2024-07-25T06:18:21.034585Z",
     "iopub.status.busy": "2024-07-25T06:18:21.034166Z",
     "iopub.status.idle": "2024-07-25T06:18:21.063796Z",
     "shell.execute_reply": "2024-07-25T06:18:21.062551Z"
    },
    "papermill": {
     "duration": 0.046009,
     "end_time": "2024-07-25T06:18:21.066397",
     "exception": false,
     "start_time": "2024-07-25T06:18:21.020388",
     "status": "completed"
    },
    "tags": []
   },
   "outputs": [
    {
     "data": {
      "text/html": [
       "<div>\n",
       "<style scoped>\n",
       "    .dataframe tbody tr th:only-of-type {\n",
       "        vertical-align: middle;\n",
       "    }\n",
       "\n",
       "    .dataframe tbody tr th {\n",
       "        vertical-align: top;\n",
       "    }\n",
       "\n",
       "    .dataframe thead th {\n",
       "        text-align: right;\n",
       "    }\n",
       "</style>\n",
       "<table border=\"1\" class=\"dataframe\">\n",
       "  <thead>\n",
       "    <tr style=\"text-align: right;\">\n",
       "      <th></th>\n",
       "      <th>id</th>\n",
       "      <th>name</th>\n",
       "      <th>host_id</th>\n",
       "      <th>host_name</th>\n",
       "      <th>neighbourhood_group</th>\n",
       "      <th>neighbourhood</th>\n",
       "      <th>latitude</th>\n",
       "      <th>longitude</th>\n",
       "      <th>room_type</th>\n",
       "      <th>price</th>\n",
       "      <th>minimum_nights</th>\n",
       "      <th>number_of_reviews</th>\n",
       "      <th>last_review</th>\n",
       "      <th>reviews_per_month</th>\n",
       "      <th>calculated_host_listings_count</th>\n",
       "      <th>availability_365</th>\n",
       "    </tr>\n",
       "  </thead>\n",
       "  <tbody>\n",
       "    <tr>\n",
       "      <th>3</th>\n",
       "      <td>3831</td>\n",
       "      <td>Cozy Entire Floor of Brownstone</td>\n",
       "      <td>4869</td>\n",
       "      <td>LisaRoxanne</td>\n",
       "      <td>Brooklyn</td>\n",
       "      <td>Clinton Hill</td>\n",
       "      <td>40.68514</td>\n",
       "      <td>-73.95976</td>\n",
       "      <td>Entire home/apt</td>\n",
       "      <td>89</td>\n",
       "      <td>1</td>\n",
       "      <td>270</td>\n",
       "      <td>2019-07-05</td>\n",
       "      <td>4.64</td>\n",
       "      <td>1</td>\n",
       "      <td>194</td>\n",
       "    </tr>\n",
       "    <tr>\n",
       "      <th>7</th>\n",
       "      <td>5178</td>\n",
       "      <td>Large Furnished Room Near B'way</td>\n",
       "      <td>8967</td>\n",
       "      <td>Shunichi</td>\n",
       "      <td>Manhattan</td>\n",
       "      <td>Hell's Kitchen</td>\n",
       "      <td>40.76489</td>\n",
       "      <td>-73.98493</td>\n",
       "      <td>Private room</td>\n",
       "      <td>79</td>\n",
       "      <td>2</td>\n",
       "      <td>430</td>\n",
       "      <td>2019-06-24</td>\n",
       "      <td>3.47</td>\n",
       "      <td>1</td>\n",
       "      <td>220</td>\n",
       "    </tr>\n",
       "    <tr>\n",
       "      <th>8</th>\n",
       "      <td>5203</td>\n",
       "      <td>Cozy Clean Guest Room - Family Apt</td>\n",
       "      <td>7490</td>\n",
       "      <td>MaryEllen</td>\n",
       "      <td>Manhattan</td>\n",
       "      <td>Upper West Side</td>\n",
       "      <td>40.80178</td>\n",
       "      <td>-73.96723</td>\n",
       "      <td>Private room</td>\n",
       "      <td>79</td>\n",
       "      <td>2</td>\n",
       "      <td>118</td>\n",
       "      <td>2017-07-21</td>\n",
       "      <td>0.99</td>\n",
       "      <td>1</td>\n",
       "      <td>0</td>\n",
       "    </tr>\n",
       "    <tr>\n",
       "      <th>9</th>\n",
       "      <td>5238</td>\n",
       "      <td>Cute &amp; Cozy Lower East Side 1 bdrm</td>\n",
       "      <td>7549</td>\n",
       "      <td>Ben</td>\n",
       "      <td>Manhattan</td>\n",
       "      <td>Chinatown</td>\n",
       "      <td>40.71344</td>\n",
       "      <td>-73.99037</td>\n",
       "      <td>Entire home/apt</td>\n",
       "      <td>150</td>\n",
       "      <td>1</td>\n",
       "      <td>160</td>\n",
       "      <td>2019-06-09</td>\n",
       "      <td>1.33</td>\n",
       "      <td>4</td>\n",
       "      <td>188</td>\n",
       "    </tr>\n",
       "    <tr>\n",
       "      <th>11</th>\n",
       "      <td>5441</td>\n",
       "      <td>Central Manhattan/near Broadway</td>\n",
       "      <td>7989</td>\n",
       "      <td>Kate</td>\n",
       "      <td>Manhattan</td>\n",
       "      <td>Hell's Kitchen</td>\n",
       "      <td>40.76076</td>\n",
       "      <td>-73.98867</td>\n",
       "      <td>Private room</td>\n",
       "      <td>85</td>\n",
       "      <td>2</td>\n",
       "      <td>188</td>\n",
       "      <td>2019-06-23</td>\n",
       "      <td>1.50</td>\n",
       "      <td>1</td>\n",
       "      <td>39</td>\n",
       "    </tr>\n",
       "  </tbody>\n",
       "</table>\n",
       "</div>"
      ],
      "text/plain": [
       "      id                                name host_id    host_name  \\\n",
       "3   3831     Cozy Entire Floor of Brownstone    4869  LisaRoxanne   \n",
       "7   5178    Large Furnished Room Near B'way     8967     Shunichi   \n",
       "8   5203  Cozy Clean Guest Room - Family Apt    7490    MaryEllen   \n",
       "9   5238  Cute & Cozy Lower East Side 1 bdrm    7549          Ben   \n",
       "11  5441     Central Manhattan/near Broadway    7989         Kate   \n",
       "\n",
       "   neighbourhood_group    neighbourhood  latitude  longitude        room_type  \\\n",
       "3             Brooklyn     Clinton Hill  40.68514  -73.95976  Entire home/apt   \n",
       "7            Manhattan   Hell's Kitchen  40.76489  -73.98493     Private room   \n",
       "8            Manhattan  Upper West Side  40.80178  -73.96723     Private room   \n",
       "9            Manhattan        Chinatown  40.71344  -73.99037  Entire home/apt   \n",
       "11           Manhattan   Hell's Kitchen  40.76076  -73.98867     Private room   \n",
       "\n",
       "    price  minimum_nights  number_of_reviews last_review  reviews_per_month  \\\n",
       "3      89               1                270  2019-07-05               4.64   \n",
       "7      79               2                430  2019-06-24               3.47   \n",
       "8      79               2                118  2017-07-21               0.99   \n",
       "9     150               1                160  2019-06-09               1.33   \n",
       "11     85               2                188  2019-06-23               1.50   \n",
       "\n",
       "    calculated_host_listings_count  availability_365  \n",
       "3                                1               194  \n",
       "7                                1               220  \n",
       "8                                1                 0  \n",
       "9                                4               188  \n",
       "11                               1                39  "
      ]
     },
     "execution_count": 13,
     "metadata": {},
     "output_type": "execute_result"
    }
   ],
   "source": [
    "Q1 = df['number_of_reviews'].quantile(0.25)\n",
    "Q3 = df['number_of_reviews'].quantile(0.75)\n",
    "IQR = Q3 - Q1\n",
    "lower_bound = Q1 - 1.5 * IQR\n",
    "upper_bound = Q3 + 1.5 * IQR\n",
    "outliers = df[(df['number_of_reviews'] < lower_bound) | (df['number_of_reviews'] > upper_bound)]\n",
    "outliers.head()"
   ]
  },
  {
   "cell_type": "code",
   "execution_count": 14,
   "id": "6fdc63dc",
   "metadata": {
    "execution": {
     "iopub.execute_input": "2024-07-25T06:18:21.093570Z",
     "iopub.status.busy": "2024-07-25T06:18:21.093160Z",
     "iopub.status.idle": "2024-07-25T06:18:21.109385Z",
     "shell.execute_reply": "2024-07-25T06:18:21.108133Z"
    },
    "papermill": {
     "duration": 0.033112,
     "end_time": "2024-07-25T06:18:21.112358",
     "exception": false,
     "start_time": "2024-07-25T06:18:21.079246",
     "status": "completed"
    },
    "tags": []
   },
   "outputs": [],
   "source": [
    "df = df[(df['number_of_reviews'] > lower_bound) & (df['number_of_reviews'] < upper_bound)]\n"
   ]
  },
  {
   "cell_type": "code",
   "execution_count": 15,
   "id": "f92de823",
   "metadata": {
    "execution": {
     "iopub.execute_input": "2024-07-25T06:18:21.138810Z",
     "iopub.status.busy": "2024-07-25T06:18:21.138350Z",
     "iopub.status.idle": "2024-07-25T06:18:21.411997Z",
     "shell.execute_reply": "2024-07-25T06:18:21.410506Z"
    },
    "papermill": {
     "duration": 0.292146,
     "end_time": "2024-07-25T06:18:21.416816",
     "exception": false,
     "start_time": "2024-07-25T06:18:21.124670",
     "status": "completed"
    },
    "tags": []
   },
   "outputs": [
    {
     "data": {
      "image/png": "[encoded data removed]",
      "text/plain": [
       "<Figure size 600x400 with 1 Axes>"
      ]
     },
     "metadata": {},
     "output_type": "display_data"
    }
   ],
   "source": [
    "plt.figure(figsize=(6, 4))  \n",
    "sns.boxplot(data=df, y='price')\n",
    "plt.title('Box Plot for price')\n",
    "plt.ylabel('price')\n",
    "plt.show()"
   ]
  },
  {
   "cell_type": "code",
   "execution_count": 16,
   "id": "1a79dd3c",
   "metadata": {
    "execution": {
     "iopub.execute_input": "2024-07-25T06:18:21.454488Z",
     "iopub.status.busy": "2024-07-25T06:18:21.453910Z",
     "iopub.status.idle": "2024-07-25T06:18:21.494289Z",
     "shell.execute_reply": "2024-07-25T06:18:21.493041Z"
    },
    "papermill": {
     "duration": 0.065615,
     "end_time": "2024-07-25T06:18:21.498441",
     "exception": false,
     "start_time": "2024-07-25T06:18:21.432826",
     "status": "completed"
    },
    "tags": []
   },
   "outputs": [
    {
     "data": {
      "text/html": [
       "<div>\n",
       "<style scoped>\n",
       "    .dataframe tbody tr th:only-of-type {\n",
       "        vertical-align: middle;\n",
       "    }\n",
       "\n",
       "    .dataframe tbody tr th {\n",
       "        vertical-align: top;\n",
       "    }\n",
       "\n",
       "    .dataframe thead th {\n",
       "        text-align: right;\n",
       "    }\n",
       "</style>\n",
       "<table border=\"1\" class=\"dataframe\">\n",
       "  <thead>\n",
       "    <tr style=\"text-align: right;\">\n",
       "      <th></th>\n",
       "      <th>id</th>\n",
       "      <th>name</th>\n",
       "      <th>host_id</th>\n",
       "      <th>host_name</th>\n",
       "      <th>neighbourhood_group</th>\n",
       "      <th>neighbourhood</th>\n",
       "      <th>latitude</th>\n",
       "      <th>longitude</th>\n",
       "      <th>room_type</th>\n",
       "      <th>price</th>\n",
       "      <th>minimum_nights</th>\n",
       "      <th>number_of_reviews</th>\n",
       "      <th>last_review</th>\n",
       "      <th>reviews_per_month</th>\n",
       "      <th>calculated_host_listings_count</th>\n",
       "      <th>availability_365</th>\n",
       "    </tr>\n",
       "  </thead>\n",
       "  <tbody>\n",
       "    <tr>\n",
       "      <th>61</th>\n",
       "      <td>15396</td>\n",
       "      <td>Sunny &amp; Spacious Chelsea Apartment</td>\n",
       "      <td>60278</td>\n",
       "      <td>Petra</td>\n",
       "      <td>Manhattan</td>\n",
       "      <td>Chelsea</td>\n",
       "      <td>40.74623</td>\n",
       "      <td>-73.9953</td>\n",
       "      <td>Entire home/apt</td>\n",
       "      <td>375</td>\n",
       "      <td>180</td>\n",
       "      <td>5</td>\n",
       "      <td>2018-11-03</td>\n",
       "      <td>0.12</td>\n",
       "      <td>1</td>\n",
       "      <td>180</td>\n",
       "    </tr>\n",
       "    <tr>\n",
       "      <th>85</th>\n",
       "      <td>19601</td>\n",
       "      <td>perfect for a family or small group</td>\n",
       "      <td>74303</td>\n",
       "      <td>Maggie</td>\n",
       "      <td>Brooklyn</td>\n",
       "      <td>Brooklyn Heights</td>\n",
       "      <td>40.69723</td>\n",
       "      <td>-73.99268</td>\n",
       "      <td>Entire home/apt</td>\n",
       "      <td>800</td>\n",
       "      <td>1</td>\n",
       "      <td>25</td>\n",
       "      <td>2016-08-04</td>\n",
       "      <td>0.24</td>\n",
       "      <td>1</td>\n",
       "      <td>7</td>\n",
       "    </tr>\n",
       "    <tr>\n",
       "      <th>103</th>\n",
       "      <td>23686</td>\n",
       "      <td>2000 SF 3br 2bath West Village private  townhouse</td>\n",
       "      <td>93790</td>\n",
       "      <td>Ann</td>\n",
       "      <td>Manhattan</td>\n",
       "      <td>West Village</td>\n",
       "      <td>40.73096</td>\n",
       "      <td>-74.00319</td>\n",
       "      <td>Entire home/apt</td>\n",
       "      <td>500</td>\n",
       "      <td>4</td>\n",
       "      <td>46</td>\n",
       "      <td>2019-05-18</td>\n",
       "      <td>0.55</td>\n",
       "      <td>2</td>\n",
       "      <td>243</td>\n",
       "    </tr>\n",
       "    <tr>\n",
       "      <th>114</th>\n",
       "      <td>26933</td>\n",
       "      <td>2 BR / 2 Bath Duplex Apt with patio! East Village</td>\n",
       "      <td>72062</td>\n",
       "      <td>Bruce</td>\n",
       "      <td>Manhattan</td>\n",
       "      <td>East Village</td>\n",
       "      <td>40.7254</td>\n",
       "      <td>-73.98157</td>\n",
       "      <td>Entire home/apt</td>\n",
       "      <td>350</td>\n",
       "      <td>2</td>\n",
       "      <td>7</td>\n",
       "      <td>2017-08-09</td>\n",
       "      <td>0.06</td>\n",
       "      <td>4</td>\n",
       "      <td>298</td>\n",
       "    </tr>\n",
       "    <tr>\n",
       "      <th>121</th>\n",
       "      <td>27659</td>\n",
       "      <td>3 Story Town House in Park Slope</td>\n",
       "      <td>119588</td>\n",
       "      <td>Vero</td>\n",
       "      <td>Brooklyn</td>\n",
       "      <td>South Slope</td>\n",
       "      <td>40.66499</td>\n",
       "      <td>-73.97925</td>\n",
       "      <td>Entire home/apt</td>\n",
       "      <td>400</td>\n",
       "      <td>2</td>\n",
       "      <td>16</td>\n",
       "      <td>2018-12-30</td>\n",
       "      <td>0.24</td>\n",
       "      <td>2</td>\n",
       "      <td>216</td>\n",
       "    </tr>\n",
       "  </tbody>\n",
       "</table>\n",
       "</div>"
      ],
      "text/plain": [
       "        id                                               name host_id  \\\n",
       "61   15396                 Sunny & Spacious Chelsea Apartment   60278   \n",
       "85   19601                perfect for a family or small group   74303   \n",
       "103  23686  2000 SF 3br 2bath West Village private  townhouse   93790   \n",
       "114  26933  2 BR / 2 Bath Duplex Apt with patio! East Village   72062   \n",
       "121  27659                   3 Story Town House in Park Slope  119588   \n",
       "\n",
       "    host_name neighbourhood_group     neighbourhood  latitude  longitude  \\\n",
       "61      Petra           Manhattan           Chelsea  40.74623   -73.9953   \n",
       "85     Maggie            Brooklyn  Brooklyn Heights  40.69723  -73.99268   \n",
       "103       Ann           Manhattan      West Village  40.73096  -74.00319   \n",
       "114     Bruce           Manhattan      East Village   40.7254  -73.98157   \n",
       "121      Vero            Brooklyn       South Slope  40.66499  -73.97925   \n",
       "\n",
       "           room_type  price  minimum_nights  number_of_reviews last_review  \\\n",
       "61   Entire home/apt    375             180                  5  2018-11-03   \n",
       "85   Entire home/apt    800               1                 25  2016-08-04   \n",
       "103  Entire home/apt    500               4                 46  2019-05-18   \n",
       "114  Entire home/apt    350               2                  7  2017-08-09   \n",
       "121  Entire home/apt    400               2                 16  2018-12-30   \n",
       "\n",
       "     reviews_per_month  calculated_host_listings_count  availability_365  \n",
       "61                0.12                               1               180  \n",
       "85                0.24                               1                 7  \n",
       "103               0.55                               2               243  \n",
       "114               0.06                               4               298  \n",
       "121               0.24                               2               216  "
      ]
     },
     "execution_count": 16,
     "metadata": {},
     "output_type": "execute_result"
    }
   ],
   "source": [
    "Q1 = df['price'].quantile(0.25)\n",
    "Q3 = df['price'].quantile(0.75)\n",
    "IQR = Q3 - Q1\n",
    "lower_bound = Q1 - 1.5 * IQR\n",
    "upper_bound = Q3 + 1.5 * IQR\n",
    "outliers = df[(df['price'] < lower_bound) | (df['price'] > upper_bound)]\n",
    "outliers.head()"
   ]
  },
  {
   "cell_type": "code",
   "execution_count": 17,
   "id": "7dac2e78",
   "metadata": {
    "execution": {
     "iopub.execute_input": "2024-07-25T06:18:21.538306Z",
     "iopub.status.busy": "2024-07-25T06:18:21.536882Z",
     "iopub.status.idle": "2024-07-25T06:18:21.558629Z",
     "shell.execute_reply": "2024-07-25T06:18:21.557152Z"
    },
    "papermill": {
     "duration": 0.042367,
     "end_time": "2024-07-25T06:18:21.561820",
     "exception": false,
     "start_time": "2024-07-25T06:18:21.519453",
     "status": "completed"
    },
    "tags": []
   },
   "outputs": [],
   "source": [
    "df = df[(df['price'] > lower_bound) & (df['price'] < upper_bound)]"
   ]
  },
  {
   "cell_type": "code",
   "execution_count": 18,
   "id": "1f07c6bb",
   "metadata": {
    "execution": {
     "iopub.execute_input": "2024-07-25T06:18:21.590480Z",
     "iopub.status.busy": "2024-07-25T06:18:21.590062Z",
     "iopub.status.idle": "2024-07-25T06:18:21.863475Z",
     "shell.execute_reply": "2024-07-25T06:18:21.862033Z"
    },
    "papermill": {
     "duration": 0.291135,
     "end_time": "2024-07-25T06:18:21.866413",
     "exception": false,
     "start_time": "2024-07-25T06:18:21.575278",
     "status": "completed"
    },
    "tags": []
   },
   "outputs": [
    {
     "data": {
      "image/png": "[encoded data removed]",
      "text/plain": [
       "<Figure size 600x400 with 1 Axes>"
      ]
     },
     "metadata": {},
     "output_type": "display_data"
    }
   ],
   "source": [
    "plt.figure(figsize=(6, 4))  \n",
    "sns.boxplot(data=df, y='price', palette='viridis')\n",
    "plt.title('Box Plot for price')\n",
    "plt.ylabel('price')\n",
    "plt.show()"
   ]
  },
  {
   "cell_type": "code",
   "execution_count": 19,
   "id": "05e43512",
   "metadata": {
    "execution": {
     "iopub.execute_input": "2024-07-25T06:18:21.896646Z",
     "iopub.status.busy": "2024-07-25T06:18:21.895680Z",
     "iopub.status.idle": "2024-07-25T06:18:22.165275Z",
     "shell.execute_reply": "2024-07-25T06:18:22.162902Z"
    },
    "papermill": {
     "duration": 0.289075,
     "end_time": "2024-07-25T06:18:22.169322",
     "exception": false,
     "start_time": "2024-07-25T06:18:21.880247",
     "status": "completed"
    },
    "tags": []
   },
   "outputs": [
    {
     "data": {
      "image/png": "[encoded data removed]",
      "text/plain": [
       "<Figure size 600x400 with 1 Axes>"
      ]
     },
     "metadata": {},
     "output_type": "display_data"
    }
   ],
   "source": [
    "plt.figure(figsize=(6, 4))  \n",
    "sns.boxplot(data=df, y='calculated_host_listings_count')\n",
    "plt.title('Box Plot for calculated_host_listings_count')\n",
    "plt.ylabel('calculated_host_listings_count')\n",
    "plt.show()"
   ]
  },
  {
   "cell_type": "code",
   "execution_count": 20,
   "id": "f7233ce7",
   "metadata": {
    "execution": {
     "iopub.execute_input": "2024-07-25T06:18:22.199311Z",
     "iopub.status.busy": "2024-07-25T06:18:22.198860Z",
     "iopub.status.idle": "2024-07-25T06:18:22.227392Z",
     "shell.execute_reply": "2024-07-25T06:18:22.226170Z"
    },
    "papermill": {
     "duration": 0.047026,
     "end_time": "2024-07-25T06:18:22.230327",
     "exception": false,
     "start_time": "2024-07-25T06:18:22.183301",
     "status": "completed"
    },
    "tags": []
   },
   "outputs": [
    {
     "data": {
      "text/html": [
       "<div>\n",
       "<style scoped>\n",
       "    .dataframe tbody tr th:only-of-type {\n",
       "        vertical-align: middle;\n",
       "    }\n",
       "\n",
       "    .dataframe tbody tr th {\n",
       "        vertical-align: top;\n",
       "    }\n",
       "\n",
       "    .dataframe thead th {\n",
       "        text-align: right;\n",
       "    }\n",
       "</style>\n",
       "<table border=\"1\" class=\"dataframe\">\n",
       "  <thead>\n",
       "    <tr style=\"text-align: right;\">\n",
       "      <th></th>\n",
       "      <th>id</th>\n",
       "      <th>name</th>\n",
       "      <th>host_id</th>\n",
       "      <th>host_name</th>\n",
       "      <th>neighbourhood_group</th>\n",
       "      <th>neighbourhood</th>\n",
       "      <th>latitude</th>\n",
       "      <th>longitude</th>\n",
       "      <th>room_type</th>\n",
       "      <th>price</th>\n",
       "      <th>minimum_nights</th>\n",
       "      <th>number_of_reviews</th>\n",
       "      <th>last_review</th>\n",
       "      <th>reviews_per_month</th>\n",
       "      <th>calculated_host_listings_count</th>\n",
       "      <th>availability_365</th>\n",
       "    </tr>\n",
       "  </thead>\n",
       "  <tbody>\n",
       "    <tr>\n",
       "      <th>0</th>\n",
       "      <td>2539</td>\n",
       "      <td>Clean &amp; quiet apt home by the park</td>\n",
       "      <td>2787</td>\n",
       "      <td>John</td>\n",
       "      <td>Brooklyn</td>\n",
       "      <td>Kensington</td>\n",
       "      <td>40.64749</td>\n",
       "      <td>-73.97237</td>\n",
       "      <td>Private room</td>\n",
       "      <td>149</td>\n",
       "      <td>1</td>\n",
       "      <td>9</td>\n",
       "      <td>2018-10-19</td>\n",
       "      <td>0.21</td>\n",
       "      <td>6</td>\n",
       "      <td>365</td>\n",
       "    </tr>\n",
       "    <tr>\n",
       "      <th>22</th>\n",
       "      <td>8025</td>\n",
       "      <td>CBG Helps Haiti Room#2.5</td>\n",
       "      <td>22486</td>\n",
       "      <td>Lisel</td>\n",
       "      <td>Brooklyn</td>\n",
       "      <td>Park Slope</td>\n",
       "      <td>40.67989</td>\n",
       "      <td>-73.97798</td>\n",
       "      <td>Private room</td>\n",
       "      <td>80</td>\n",
       "      <td>1</td>\n",
       "      <td>39</td>\n",
       "      <td>2019-01-01</td>\n",
       "      <td>0.37</td>\n",
       "      <td>6</td>\n",
       "      <td>364</td>\n",
       "    </tr>\n",
       "    <tr>\n",
       "      <th>23</th>\n",
       "      <td>8110</td>\n",
       "      <td>CBG Helps Haiti Rm #2</td>\n",
       "      <td>22486</td>\n",
       "      <td>Lisel</td>\n",
       "      <td>Brooklyn</td>\n",
       "      <td>Park Slope</td>\n",
       "      <td>40.68001</td>\n",
       "      <td>-73.97865</td>\n",
       "      <td>Private room</td>\n",
       "      <td>110</td>\n",
       "      <td>2</td>\n",
       "      <td>71</td>\n",
       "      <td>2019-07-02</td>\n",
       "      <td>0.61</td>\n",
       "      <td>6</td>\n",
       "      <td>304</td>\n",
       "    </tr>\n",
       "    <tr>\n",
       "      <th>80</th>\n",
       "      <td>18764</td>\n",
       "      <td>Cozy 2 BR in Williamsburg</td>\n",
       "      <td>72014</td>\n",
       "      <td>Lulú</td>\n",
       "      <td>Brooklyn</td>\n",
       "      <td>Williamsburg</td>\n",
       "      <td>40.71154</td>\n",
       "      <td>-73.96112</td>\n",
       "      <td>Private room</td>\n",
       "      <td>145</td>\n",
       "      <td>3</td>\n",
       "      <td>61</td>\n",
       "      <td>2019-04-22</td>\n",
       "      <td>0.54</td>\n",
       "      <td>4</td>\n",
       "      <td>238</td>\n",
       "    </tr>\n",
       "    <tr>\n",
       "      <th>92</th>\n",
       "      <td>20755</td>\n",
       "      <td>Large Parlor Room, Landmark Home 1 block to PRATT</td>\n",
       "      <td>51038</td>\n",
       "      <td>Erica</td>\n",
       "      <td>Brooklyn</td>\n",
       "      <td>Clinton Hill</td>\n",
       "      <td>40.68634</td>\n",
       "      <td>-73.966</td>\n",
       "      <td>Private room</td>\n",
       "      <td>98</td>\n",
       "      <td>7</td>\n",
       "      <td>16</td>\n",
       "      <td>2019-05-31</td>\n",
       "      <td>0.20</td>\n",
       "      <td>6</td>\n",
       "      <td>185</td>\n",
       "    </tr>\n",
       "  </tbody>\n",
       "</table>\n",
       "</div>"
      ],
      "text/plain": [
       "       id                                               name host_id  \\\n",
       "0    2539                 Clean & quiet apt home by the park    2787   \n",
       "22   8025                           CBG Helps Haiti Room#2.5   22486   \n",
       "23   8110                              CBG Helps Haiti Rm #2   22486   \n",
       "80  18764                         Cozy 2 BR in Williamsburg    72014   \n",
       "92  20755  Large Parlor Room, Landmark Home 1 block to PRATT   51038   \n",
       "\n",
       "   host_name neighbourhood_group neighbourhood  latitude  longitude  \\\n",
       "0       John            Brooklyn    Kensington  40.64749  -73.97237   \n",
       "22     Lisel            Brooklyn    Park Slope  40.67989  -73.97798   \n",
       "23     Lisel            Brooklyn    Park Slope  40.68001  -73.97865   \n",
       "80      Lulú            Brooklyn  Williamsburg  40.71154  -73.96112   \n",
       "92     Erica            Brooklyn  Clinton Hill  40.68634    -73.966   \n",
       "\n",
       "       room_type  price  minimum_nights  number_of_reviews last_review  \\\n",
       "0   Private room    149               1                  9  2018-10-19   \n",
       "22  Private room     80               1                 39  2019-01-01   \n",
       "23  Private room    110               2                 71  2019-07-02   \n",
       "80  Private room    145               3                 61  2019-04-22   \n",
       "92  Private room     98               7                 16  2019-05-31   \n",
       "\n",
       "    reviews_per_month  calculated_host_listings_count  availability_365  \n",
       "0                0.21                               6               365  \n",
       "22               0.37                               6               364  \n",
       "23               0.61                               6               304  \n",
       "80               0.54                               4               238  \n",
       "92               0.20                               6               185  "
      ]
     },
     "execution_count": 20,
     "metadata": {},
     "output_type": "execute_result"
    }
   ],
   "source": [
    "Q1 = df['calculated_host_listings_count'].quantile(0.25)\n",
    "Q3 = df['calculated_host_listings_count'].quantile(0.75)\n",
    "IQR = Q3 - Q1\n",
    "lower_bound = Q1 - 1.5 * IQR\n",
    "upper_bound = Q3 + 1.5 * IQR\n",
    "outliers = df[(df['calculated_host_listings_count'] < lower_bound) | (df['calculated_host_listings_count'] > upper_bound)]\n",
    "outliers.head()"
   ]
  },
  {
   "cell_type": "code",
   "execution_count": 21,
   "id": "06797d53",
   "metadata": {
    "execution": {
     "iopub.execute_input": "2024-07-25T06:18:22.261451Z",
     "iopub.status.busy": "2024-07-25T06:18:22.261002Z",
     "iopub.status.idle": "2024-07-25T06:18:22.277015Z",
     "shell.execute_reply": "2024-07-25T06:18:22.275570Z"
    },
    "papermill": {
     "duration": 0.035494,
     "end_time": "2024-07-25T06:18:22.280150",
     "exception": false,
     "start_time": "2024-07-25T06:18:22.244656",
     "status": "completed"
    },
    "tags": []
   },
   "outputs": [],
   "source": [
    "df = df[(df['calculated_host_listings_count'] > lower_bound) & (df['calculated_host_listings_count'] < upper_bound)]"
   ]
  },
  {
   "cell_type": "code",
   "execution_count": 22,
   "id": "abb0fd43",
   "metadata": {
    "execution": {
     "iopub.execute_input": "2024-07-25T06:18:22.313128Z",
     "iopub.status.busy": "2024-07-25T06:18:22.312614Z",
     "iopub.status.idle": "2024-07-25T06:18:22.545554Z",
     "shell.execute_reply": "2024-07-25T06:18:22.544316Z"
    },
    "papermill": {
     "duration": 0.2537,
     "end_time": "2024-07-25T06:18:22.548283",
     "exception": false,
     "start_time": "2024-07-25T06:18:22.294583",
     "status": "completed"
    },
    "tags": []
   },
   "outputs": [
    {
     "data": {
      "image/png": "[encoded data removed]",
      "text/plain": [
       "<Figure size 600x400 with 1 Axes>"
      ]
     },
     "metadata": {},
     "output_type": "display_data"
    }
   ],
   "source": [
    "plt.figure(figsize=(6, 4))  \n",
    "sns.boxplot(data=df, y='calculated_host_listings_count', palette='viridis')\n",
    "plt.title('Box Plot for calculated_host_listings_count')\n",
    "plt.ylabel('calculated_host_listings_count')\n",
    "plt.show()"
   ]
  },
  {
   "cell_type": "code",
   "execution_count": 23,
   "id": "c56da15d",
   "metadata": {
    "execution": {
     "iopub.execute_input": "2024-07-25T06:18:22.579904Z",
     "iopub.status.busy": "2024-07-25T06:18:22.579467Z",
     "iopub.status.idle": "2024-07-25T06:18:23.148235Z",
     "shell.execute_reply": "2024-07-25T06:18:23.146954Z"
    },
    "papermill": {
     "duration": 0.58774,
     "end_time": "2024-07-25T06:18:23.151108",
     "exception": false,
     "start_time": "2024-07-25T06:18:22.563368",
     "status": "completed"
    },
    "tags": []
   },
   "outputs": [
    {
     "name": "stderr",
     "output_type": "stream",
     "text": [
      "/opt/conda/lib/python3.10/site-packages/seaborn/_oldcore.py:1119: FutureWarning: use_inf_as_na option is deprecated and will be removed in a future version. Convert inf values to NaN before operating instead.\n",
      "  with pd.option_context('mode.use_inf_as_na', True):\n"
     ]
    },
    {
     "data": {
      "image/png": "[encoded data removed]",
      "text/plain": [
       "<Figure size 800x600 with 1 Axes>"
      ]
     },
     "metadata": {},
     "output_type": "display_data"
    }
   ],
   "source": [
    "plt.figure(figsize=(8, 6))  \n",
    "sns.histplot(data=df, x='price', bins=30, kde=True)\n",
    "plt.title('Histogram for price')\n",
    "plt.xlabel('price')\n",
    "plt.ylabel('Frequency')\n",
    "plt.show()"
   ]
  },
  {
   "cell_type": "code",
   "execution_count": 24,
   "id": "db268623",
   "metadata": {
    "execution": {
     "iopub.execute_input": "2024-07-25T06:18:23.184584Z",
     "iopub.status.busy": "2024-07-25T06:18:23.184223Z",
     "iopub.status.idle": "2024-07-25T06:18:23.192530Z",
     "shell.execute_reply": "2024-07-25T06:18:23.191202Z"
    },
    "papermill": {
     "duration": 0.028022,
     "end_time": "2024-07-25T06:18:23.195133",
     "exception": false,
     "start_time": "2024-07-25T06:18:23.167111",
     "status": "completed"
    },
    "tags": []
   },
   "outputs": [
    {
     "name": "stdout",
     "output_type": "stream",
     "text": [
      "Skewness: 0.932562\n",
      "Kurtosis: 0.249717\n"
     ]
    }
   ],
   "source": [
    "print(\"Skewness: %f\" % df['price'].skew())\n",
    "print(\"Kurtosis: %f\" % df['price'].kurt())"
   ]
  },
  {
   "cell_type": "code",
   "execution_count": 25,
   "id": "9ab1390f",
   "metadata": {
    "execution": {
     "iopub.execute_input": "2024-07-25T06:18:23.229346Z",
     "iopub.status.busy": "2024-07-25T06:18:23.228970Z",
     "iopub.status.idle": "2024-07-25T06:18:23.837373Z",
     "shell.execute_reply": "2024-07-25T06:18:23.835605Z"
    },
    "papermill": {
     "duration": 0.629681,
     "end_time": "2024-07-25T06:18:23.840836",
     "exception": false,
     "start_time": "2024-07-25T06:18:23.211155",
     "status": "completed"
    },
    "tags": []
   },
   "outputs": [
    {
     "name": "stderr",
     "output_type": "stream",
     "text": [
      "/opt/conda/lib/python3.10/site-packages/seaborn/_oldcore.py:1119: FutureWarning: use_inf_as_na option is deprecated and will be removed in a future version. Convert inf values to NaN before operating instead.\n",
      "  with pd.option_context('mode.use_inf_as_na', True):\n"
     ]
    },
    {
     "data": {
      "image/png": "[encoded data removed]",
      "text/plain": [
       "<Figure size 800x600 with 1 Axes>"
      ]
     },
     "metadata": {},
     "output_type": "display_data"
    }
   ],
   "source": [
    "plt.figure(figsize=(8, 6))  \n",
    "sns.histplot(data=df, x='number_of_reviews', bins=30, kde=True)\n",
    "plt.title('Histogram for number_of_reviews')\n",
    "plt.xlabel('number_of_reviews')\n",
    "plt.ylabel('Frequency')\n",
    "plt.show()"
   ]
  },
  {
   "cell_type": "code",
   "execution_count": 26,
   "id": "351713bb",
   "metadata": {
    "execution": {
     "iopub.execute_input": "2024-07-25T06:18:23.877242Z",
     "iopub.status.busy": "2024-07-25T06:18:23.876848Z",
     "iopub.status.idle": "2024-07-25T06:18:23.886170Z",
     "shell.execute_reply": "2024-07-25T06:18:23.884792Z"
    },
    "papermill": {
     "duration": 0.030761,
     "end_time": "2024-07-25T06:18:23.889083",
     "exception": false,
     "start_time": "2024-07-25T06:18:23.858322",
     "status": "completed"
    },
    "tags": []
   },
   "outputs": [
    {
     "name": "stdout",
     "output_type": "stream",
     "text": [
      "Skewness: 1.578492\n",
      "Kurtosis: 1.664988\n"
     ]
    }
   ],
   "source": [
    "print(\"Skewness: %f\" % df['number_of_reviews'].skew())\n",
    "print(\"Kurtosis: %f\" % df['number_of_reviews'].kurt())"
   ]
  },
  {
   "cell_type": "code",
   "execution_count": null,
   "id": "ebc1fa49",
   "metadata": {
    "papermill": {
     "duration": 0.016548,
     "end_time": "2024-07-25T06:18:23.922846",
     "exception": false,
     "start_time": "2024-07-25T06:18:23.906298",
     "status": "completed"
    },
    "tags": []
   },
   "outputs": [],
   "source": []
  }
 ],
 "metadata": {
  "kaggle": {
   "accelerator": "none",
   "dataSources": [
    {
     "datasetId": 268833,
     "sourceId": 611395,
     "sourceType": "datasetVersion"
    }
   ],
   "dockerImageVersionId": 30746,
   "isGpuEnabled": false,
   "isInternetEnabled": false,
   "language": "python",
   "sourceType": "notebook"
  },
  "kernelspec": {
   "display_name": "Python 3",
   "language": "python",
   "name": "python3"
  },
  "language_info": {
   "codemirror_mode": {
    "name": "ipython",
    "version": 3
   },
   "file_extension": ".py",
   "mimetype": "text/x-python",
   "name": "python",
   "nbconvert_exporter": "python",
   "pygments_lexer": "ipython3",
   "version": "3.10.13"
  },
  "papermill": {
   "default_parameters": {},
   "duration": 11.467571,
   "end_time": "2024-07-25T06:18:24.664823",
   "environment_variables": {},
   "exception": null,
   "input_path": "__notebook__.ipynb",
   "output_path": "__notebook__.ipynb",
   "parameters": {},
   "start_time": "2024-07-25T06:18:13.197252",
   "version": "2.5.0"
  }
 },
 "nbformat": 4,
 "nbformat_minor": 5
}
